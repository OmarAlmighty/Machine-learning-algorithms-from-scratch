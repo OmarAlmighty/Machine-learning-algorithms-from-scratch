{
  "nbformat": 4,
  "nbformat_minor": 0,
  "metadata": {
    "kernelspec": {
      "display_name": "Python 3",
      "language": "python",
      "name": "python3"
    },
    "language_info": {
      "codemirror_mode": {
        "name": "ipython",
        "version": 3
      },
      "file_extension": ".py",
      "mimetype": "text/x-python",
      "name": "python",
      "nbconvert_exporter": "python",
      "pygments_lexer": "ipython3",
      "version": "3.7.3"
    },
    "pycharm": {
      "stem_cell": {
        "cell_type": "raw",
        "metadata": {
          "collapsed": false
        },
        "source": []
      }
    },
    "colab": {
      "name": "Driver.ipynb",
      "provenance": []
    }
  },
  "cells": [
    {
      "cell_type": "markdown",
      "metadata": {
        "id": "xH_nG2AF2XyD",
        "colab_type": "text"
      },
      "source": [
        "# **ML practice project description**\n",
        "This project is designed to train any dataset on the following classifiers: **KNN**, **Naive Bayes**, and **Decision Tree**\n",
        "\n",
        "The project is organized as follows:\n",
        "\n",
        "\n",
        "1.   **KNN.py** class, to classify the dataset using k-nearset neighbor classifier.\n",
        "2.   **NaibeBayes.py** class, to classify the dataset using naive bayes classifier.\n",
        "3.   **DecisonTree.py** class, to classify the dataset using decision tree classifier.\n",
        "4.   **Tools.py** class, this class contains general functions used by each classifier such as: \n",
        "\n",
        "    *   *train_test_split(dataset, test_size)*: to split dataset to train set and test set given split size\n",
        "    *   *get_accuracy(y_true, y_predicted)*: to calculate accuracy on a test set by counting the number of correctly classified objects then divide by the total number of objects in the testset.\n",
        "    *   *euclidean_distance(row1, row2)*: to estimate the eculdian distance between two instances. Used in KNN classifier. \n",
        "    *   *estimate_probability(x, mean, stdev)*: to estimate gaussian probability distruiton of an object x given mean and standard deviation.\n",
        "\n",
        "5.    **Plot.py** class, to visualize dataset.\n",
        "6.    **Driver.ipynb** notebook, to visualize, trian, and test classifiers on the dataset.\n",
        "\n",
        "**The motivations behind using KNN is:**\n",
        "1. Easy to implement\n",
        "2. Makes no assumption about the underlying data pattern which means that it's non-parametric.\n",
        "3. Can be used for both classification and Regression problems.\n",
        "4. Based on feature similarity.\n",
        "5. There is no explicit training phase or it is very minimal.\n",
        "\n",
        "**The motivations behind using Naive Bayes is:**\n",
        "1. Assumes that the features are independent.\n",
        "2. Simple and fast.\n",
        "3. Can be used for both binary and mult-iclass classification problems.\n",
        "4. Can make probabilistic predictions.\n",
        "5. Not sensitive to irrelevant features.\n",
        "\n",
        "**The motivations behind using Naive Bayes is:**\n",
        "1. Can handle continuous-valued, discrete, and categorical; there is no need to convert one type into another.\n",
        "2. An intuitve classifier, as it can be traced as a sequence of choices.\n",
        "3. The operation is very fast.\n",
        "4. does not require normalization of data. \n",
        "5. Unstable classifier."
      ]
    },
    {
      "cell_type": "markdown",
      "metadata": {
        "collapsed": true,
        "pycharm": {
          "name": "#%% md\n"
        },
        "id": "XSHpQJPV0NMm",
        "colab_type": "text"
      },
      "source": [
        "### Import modules"
      ]
    },
    {
      "cell_type": "code",
      "metadata": {
        "pycharm": {
          "is_executing": false,
          "name": "#%%\n"
        },
        "id": "9OwQhWEm0NMo",
        "colab_type": "code",
        "colab": {
          "base_uri": "https://localhost:8080/",
          "height": 87
        },
        "outputId": "c3c26494-8091-4d67-8d32-e39ab8080e91"
      },
      "source": [
        "import pandas as pd\n",
        "from Plot import Plot\n",
        "import Tools\n",
        "from KNN import KNN\n",
        "from NaiveBayes import NaiveBayes\n",
        "from DecisonTree import DecisonTree\n",
        "print('Done importing')"
      ],
      "execution_count": 1,
      "outputs": [
        {
          "output_type": "stream",
          "text": [
            "Done importing\n"
          ],
          "name": "stdout"
        },
        {
          "output_type": "stream",
          "text": [
            "/usr/local/lib/python3.6/dist-packages/statsmodels/tools/_testing.py:19: FutureWarning: pandas.util.testing is deprecated. Use the functions in the public API at pandas.testing instead.\n",
            "  import pandas.util.testing as tm\n"
          ],
          "name": "stderr"
        }
      ]
    },
    {
      "cell_type": "markdown",
      "metadata": {
        "pycharm": {
          "name": "#%% md\n"
        },
        "id": "5-6rTIH20NMx",
        "colab_type": "text"
      },
      "source": [
        "### Load data\n",
        " load dataset\n",
        " \n",
        " names=['x1', 'x2', 'x3', 'x4', 'x5', 'x6', 'x7', 'x8', 'x9', 'x10', 'x11', 'class']\n",
        " \n",
        " dataset = pd.read_csv(filename.csv, names=[feature names])"
      ]
    },
    {
      "cell_type": "code",
      "metadata": {
        "pycharm": {
          "is_executing": false,
          "name": "#%%\n"
        },
        "id": "o5Vf4t-m0NMz",
        "colab_type": "code",
        "colab": {
          "base_uri": "https://localhost:8080/",
          "height": 118
        },
        "outputId": "56c47c66-33fd-4981-b09c-2d1296a8cdbf"
      },
      "source": [
        "names = []\n",
        "num_of_features = 13\n",
        "for i in range(num_of_features):\n",
        "    x = 'x'+str(i+1)\n",
        "    names.append(x)\n",
        "names.append('class')\n",
        "dataset = pd.read_csv('dataset.csv', names=names)\n",
        "# IF DATASET FILE IS NOT SEPARATED BY COMMAS\n",
        "# dataset =pd.read_csv('output_list.txt', sep=\" \", names=names)\n",
        "print(dataset.head())"
      ],
      "execution_count": 2,
      "outputs": [
        {
          "output_type": "stream",
          "text": [
            "   x1  x2  x3   x4   x5  x6  x7   x8  x9  x10  x11  x12  x13  class\n",
            "0  63   1   3  145  233   1   0  150   0  2.3    0    0    1      1\n",
            "1  37   1   2  130  250   0   1  187   0  3.5    0    0    2      1\n",
            "2  41   0   1  130  204   0   0  172   0  1.4    2    0    2      1\n",
            "3  56   1   1  120  236   0   1  178   0  0.8    2    0    2      1\n",
            "4  57   0   0  120  354   0   1  163   1  0.6    2    0    2      1\n"
          ],
          "name": "stdout"
        }
      ]
    },
    {
      "cell_type": "markdown",
      "metadata": {
        "pycharm": {
          "name": "#%% md\n"
        },
        "id": "9EYA3GkR0NM8",
        "colab_type": "text"
      },
      "source": [
        "### Extract labels from dataset"
      ]
    },
    {
      "cell_type": "code",
      "metadata": {
        "pycharm": {
          "is_executing": false,
          "name": "#%%\n"
        },
        "id": "CfxqwD9G0NM-",
        "colab_type": "code",
        "colab": {
          "base_uri": "https://localhost:8080/",
          "height": 34
        },
        "outputId": "2519f21d-5a3b-40cd-c877-6bb3aa6351c0"
      },
      "source": [
        "lbls = dataset['class'].unique()\n",
        "print(lbls)"
      ],
      "execution_count": 3,
      "outputs": [
        {
          "output_type": "stream",
          "text": [
            "[1 0]\n"
          ],
          "name": "stdout"
        }
      ]
    },
    {
      "cell_type": "markdown",
      "metadata": {
        "id": "2tABYAgl0NNF",
        "colab_type": "text"
      },
      "source": [
        "### visualize the whole dataset"
      ]
    },
    {
      "cell_type": "code",
      "metadata": {
        "pycharm": {
          "is_executing": false,
          "name": "#%%\n"
        },
        "id": "vA2tHSfR0NNG",
        "colab_type": "code",
        "colab": {
          "base_uri": "https://localhost:8080/",
          "height": 654
        },
        "outputId": "ccf3d1db-c198-4fa5-a70e-4336575b9be5"
      },
      "source": [
        "vis = Plot(lbls)\n",
        "vis.visulaize(dataset,'x1','x5')"
      ],
      "execution_count": 5,
      "outputs": [
        {
          "output_type": "stream",
          "text": [
            "/usr/local/lib/python3.6/dist-packages/seaborn/axisgrid.py:243: UserWarning: The `size` parameter has been renamed to `height`; please update your code.\n",
            "  warnings.warn(msg, UserWarning)\n"
          ],
          "name": "stderr"
        },
        {
          "output_type": "display_data",
          "data": {
            "image/png": "[encoded data removed]",
            "text/plain": [
              "<Figure size 432x288 with 1 Axes>"
            ]
          },
          "metadata": {
            "tags": []
          }
        },
        {
          "output_type": "display_data",
          "data": {
            "image/png": "[encoded data removed]",
            "text/plain": [
              "<Figure size 406.6x360 with 1 Axes>"
            ]
          },
          "metadata": {
            "tags": []
          }
        }
      ]
    },
    {
      "cell_type": "markdown",
      "metadata": {
        "id": "osrEOUlL0NNL",
        "colab_type": "text"
      },
      "source": [
        "### Shuffle dataset\n",
        "frac=1 means return all rows (in random order)."
      ]
    },
    {
      "cell_type": "code",
      "metadata": {
        "pycharm": {
          "is_executing": false,
          "name": "#%%\n"
        },
        "id": "b-0J0JAL0NNL",
        "colab_type": "code",
        "colab": {
          "base_uri": "https://localhost:8080/",
          "height": 118
        },
        "outputId": "b4ce57b6-8be7-48cf-83de-a412a53e7763"
      },
      "source": [
        "dataset_shuffle = dataset.sample(frac=1).reset_index(drop=True)\n",
        "print(dataset_shuffle.head())"
      ],
      "execution_count": 18,
      "outputs": [
        {
          "output_type": "stream",
          "text": [
            "   x1  x2  x3   x4   x5  x6  x7   x8  x9  x10  x11  x12  x13  class\n",
            "0  66   1   0  112  212   0   0  132   1  0.1    2    1    2      0\n",
            "1  59   1   0  140  177   0   1  162   1  0.0    2    1    3      0\n",
            "2  58   1   0  125  300   0   0  171   0  0.0    2    2    3      0\n",
            "3  57   1   0  150  276   0   0  112   1  0.6    1    1    1      0\n",
            "4  45   1   0  115  260   0   0  185   0  0.0    2    0    2      1\n"
          ],
          "name": "stdout"
        }
      ]
    },
    {
      "cell_type": "markdown",
      "metadata": {
        "id": "_mj4Mc0E0NNQ",
        "colab_type": "text"
      },
      "source": [
        "### Create Plot object, and plot sample data after shuffling\n",
        "plt.show_plt(feature1_for_x-axis, feature2_for_y-axis, number_of_samples, shuffled_dataset)"
      ]
    },
    {
      "cell_type": "code",
      "metadata": {
        "pycharm": {
          "is_executing": false,
          "name": "#%%\n"
        },
        "id": "qs1g-83q0NNR",
        "colab_type": "code",
        "colab": {
          "base_uri": "https://localhost:8080/",
          "height": 301
        },
        "outputId": "b304e079-3bce-4ba7-a83d-4d010958d170"
      },
      "source": [
        "plt = Plot(lbls)\n",
        "plt.show_plot('x1', 'x5', 20, dataset_shuffle)"
      ],
      "execution_count": 7,
      "outputs": [
        {
          "output_type": "display_data",
          "data": {
            "image/png": "[encoded data removed]",
            "text/plain": [
              "<Figure size 432x288 with 1 Axes>"
            ]
          },
          "metadata": {
            "tags": []
          }
        }
      ]
    },
    {
      "cell_type": "code",
      "metadata": {
        "id": "4gBltmB8Cb7F",
        "colab_type": "code",
        "colab": {}
      },
      "source": [
        ""
      ],
      "execution_count": null,
      "outputs": []
    },
    {
      "cell_type": "markdown",
      "metadata": {
        "pycharm": {
          "name": "#%% md\n"
        },
        "id": "Icjf6BK10NNX",
        "colab_type": "text"
      },
      "source": [
        "### separate features from class label"
      ]
    },
    {
      "cell_type": "code",
      "metadata": {
        "pycharm": {
          "is_executing": false,
          "name": "#%%\n"
        },
        "id": "Y-IVfxkw0NNY",
        "colab_type": "code",
        "colab": {}
      },
      "source": [
        "#x, y = Tools.get_features(dataset_shuffle,[0,1,2,3] ,4)\n",
        "#print(x[0:5][:])\n",
        "#print(y[0:5][:])"
      ],
      "execution_count": null,
      "outputs": []
    },
    {
      "cell_type": "markdown",
      "metadata": {
        "id": "ovFuMbh50NNe",
        "colab_type": "text"
      },
      "source": [
        "### train/test split"
      ]
    },
    {
      "cell_type": "code",
      "metadata": {
        "pycharm": {
          "is_executing": false,
          "name": "#%%\n"
        },
        "id": "rtfKwiPk0NNf",
        "colab_type": "code",
        "colab": {
          "base_uri": "https://localhost:8080/",
          "height": 50
        },
        "outputId": "30ab881d-c67c-49c4-b470-9abeed282e68"
      },
      "source": [
        "split_size = 0.40\n",
        "train_set,test_set = Tools.train_test_split(dataset_shuffle,split_size)\n",
        "print(len(train_set))\n",
        "print(len(test_set))"
      ],
      "execution_count": 19,
      "outputs": [
        {
          "output_type": "stream",
          "text": [
            "181\n",
            "122\n"
          ],
          "name": "stdout"
        }
      ]
    },
    {
      "cell_type": "markdown",
      "metadata": {
        "id": "W3ELO6Ln0NNo",
        "colab_type": "text"
      },
      "source": [
        "### If there is non-mumerical labels, cast class labels to integers"
      ]
    },
    {
      "cell_type": "code",
      "metadata": {
        "pycharm": {
          "is_executing": false,
          "name": "#%%\n"
        },
        "id": "zHha8VjE0NNp",
        "colab_type": "code",
        "colab": {}
      },
      "source": [
        "# Tools.str_to_int(train_set,len(train_set[0])-1)\n",
        "# Tools.str_to_int(test_set,len(test_set[0])-1)"
      ],
      "execution_count": null,
      "outputs": []
    },
    {
      "cell_type": "markdown",
      "metadata": {
        "pycharm": {
          "name": "#%% md\n"
        },
        "id": "D9UKV9i80NNt",
        "colab_type": "text"
      },
      "source": [
        "### Run classifier"
      ]
    },
    {
      "cell_type": "code",
      "metadata": {
        "pycharm": {
          "is_executing": false,
          "name": "#%%\n"
        },
        "id": "2sZs2tAI0NNu",
        "colab_type": "code",
        "colab": {
          "base_uri": "https://localhost:8080/",
          "height": 34
        },
        "outputId": "39fc6189-b9db-420b-9eeb-9a514c617edc"
      },
      "source": [
        "knn_classifier = KNN(train_set,test_set,3)\n",
        "accuracy_knn = knn_classifier.run()\n",
        "print('KNN: ',accuracy_knn)"
      ],
      "execution_count": 20,
      "outputs": [
        {
          "output_type": "stream",
          "text": [
            "KNN:  66.39344262295081\n"
          ],
          "name": "stdout"
        }
      ]
    },
    {
      "cell_type": "code",
      "metadata": {
        "pycharm": {
          "is_executing": false,
          "name": "#%%\n"
        },
        "id": "mKoREcKm0NN2",
        "colab_type": "code",
        "colab": {
          "base_uri": "https://localhost:8080/",
          "height": 34
        },
        "outputId": "cb556958-fb12-4fe5-f877-7be895b49922"
      },
      "source": [
        "dt_classifier = DecisonTree(train_set,test_set,5,10)\n",
        "accuracy_dt = dt_classifier.run()\n",
        "print('Decision Tree: ',accuracy_dt)"
      ],
      "execution_count": 21,
      "outputs": [
        {
          "output_type": "stream",
          "text": [
            "Decision Tree:  73.77049180327869\n"
          ],
          "name": "stdout"
        }
      ]
    },
    {
      "cell_type": "code",
      "metadata": {
        "pycharm": {
          "is_executing": false,
          "name": "#%%\n"
        },
        "id": "TRZ_bOnU0NN8",
        "colab_type": "code",
        "colab": {
          "base_uri": "https://localhost:8080/",
          "height": 34
        },
        "outputId": "3758cbe3-e801-458a-91ba-d716d1763378"
      },
      "source": [
        "nb_classifier = NaiveBayes(train_set,test_set)\n",
        "accuracy_nb = nb_classifier.run()\n",
        "print('Naive Bayes: ',accuracy_nb)"
      ],
      "execution_count": 22,
      "outputs": [
        {
          "output_type": "stream",
          "text": [
            "Naive Bayes:  83.60655737704919\n"
          ],
          "name": "stdout"
        }
      ]
    }
  ]
}